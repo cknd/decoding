{
 "cells": [
  {
   "cell_type": "code",
   "execution_count": 84,
   "metadata": {
    "collapsed": true
   },
   "outputs": [],
   "source": [
    "from matplotlib.pyplot import *\n",
    "%matplotlib inline\n",
    "import numpy as np\n",
    "import pandas\n",
    "from scipy import signal"
   ]
  },
  {
   "cell_type": "code",
   "execution_count": 85,
   "metadata": {
    "collapsed": false,
    "scrolled": false
   },
   "outputs": [],
   "source": [
    "import ni\n",
    "bla = ni.Data('/Users/c/exDropbox/Decoding2014Data/output_encoding.pkl')\n",
    "dataframe = bla.data\n",
    "\n",
    "n_cells = 20\n",
    "n_conditions = 5\n",
    "n_trials = 20\n",
    "T = 14400\n",
    "sp_outputencoding = np.zeros((n_cells,n_conditions,n_trials,T))\n",
    "for cell in range(n_cells):\n",
    "    for condition in range(n_conditions):\n",
    "        for trial in range(n_trials):\n",
    "           sp_outputencoding[cell,condition,trial,:] = dataframe.loc[(cell,condition,trial)]\n",
    "\n"
   ]
  },
  {
   "cell_type": "code",
   "execution_count": 86,
   "metadata": {
    "collapsed": false
   },
   "outputs": [],
   "source": [
    "bla = ni.Data('/Users/c/exDropbox/Decoding2014Data/Spikes_Group_Condition_A.pkl')\n",
    "dataframe = bla.data\n",
    "n_cells = 7\n",
    "n_conditions = 1\n",
    "n_trials = 66\n",
    "T = 6000\n",
    "spikes_grA = np.zeros((n_cells,n_conditions,n_trials,T))\n",
    "for cell in range(n_cells):\n",
    "    for condition in range(n_conditions):\n",
    "        for trial in range(n_trials):\n",
    "           spikes_grA[cell,condition,trial,:] = dataframe.loc[(condition,trial,cell)] # different order!"
   ]
  },
  {
   "cell_type": "code",
   "execution_count": 87,
   "metadata": {
    "collapsed": true
   },
   "outputs": [],
   "source": [
    "bla = ni.Data('/Users/c/exDropbox/Decoding2014Data/Spikes_Group_Condition_B.pkl')\n",
    "dataframe = bla.data\n",
    "\n",
    "n_cells = 7\n",
    "n_conditions = 1\n",
    "n_trials = 66\n",
    "T = 6000\n",
    "spikes_grB = np.zeros((n_cells,n_conditions,n_trials,T))\n",
    "for cell in range(n_cells):\n",
    "    for condition in range(n_conditions):\n",
    "        for trial in range(n_trials):\n",
    "           spikes_grB[cell,condition,trial,:] = dataframe.loc[(condition,trial,cell)] # different order!\n"
   ]
  },
  {
   "cell_type": "code",
   "execution_count": 88,
   "metadata": {
    "collapsed": true
   },
   "outputs": [],
   "source": [
    "bla = ni.Data('/Users/c/exDropbox/Decoding2014Data/Spikes_Test.pkl')\n",
    "dataframe = bla.data\n",
    "\n",
    "n_cells = 7\n",
    "n_conditions = 1\n",
    "n_trials = 44\n",
    "T = 6000\n",
    "spikes_test = np.zeros((n_cells,n_conditions,n_trials,T))\n",
    "for cell in range(n_cells):\n",
    "    for condition in range(n_conditions):\n",
    "        for trial in range(n_trials):\n",
    "           spikes_test[cell,condition,trial,:] = dataframe.loc[(condition,trial,cell)] # different order!\n"
   ]
  },
  {
   "cell_type": "code",
   "execution_count": 90,
   "metadata": {
    "collapsed": false
   },
   "outputs": [],
   "source": [
    "np.savez_compressed('data',\n",
    "                    spikes_outputencoding=sp_outputencoding,\n",
    "                    spikes_competitionA=spikes_grA,\n",
    "                    spikes_competitionB=spikes_grB,\n",
    "                    spikes_competitionTest=spikes_test)"
   ]
  }
 ],
 "metadata": {
  "kernelspec": {
   "display_name": "Python 2",
   "language": "python",
   "name": "python2"
  },
  "language_info": {
   "codemirror_mode": {
    "name": "ipython",
    "version": 2
   },
   "file_extension": ".py",
   "mimetype": "text/x-python",
   "name": "python",
   "nbconvert_exporter": "python",
   "pygments_lexer": "ipython2",
   "version": "2.7.9"
  }
 },
 "nbformat": 4,
 "nbformat_minor": 0
}
