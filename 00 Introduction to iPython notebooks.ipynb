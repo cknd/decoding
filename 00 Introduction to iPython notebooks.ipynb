{
 "cells": [
  {
   "cell_type": "markdown",
   "metadata": {},
   "source": [
    "CK\n",
    "\n",
    "# Introduction to ipython notebooks\n",
    "\n",
    "You recieve your exercises in the form of [ipython notebooks](http://ipython.org/notebook.html), such as this one. We'll start with a quick intro / refresher how these notebooks work. If you already know everything about them, feel free to skip this :)\n",
    "\n",
    "At the top, you see a menu and a toolbar. You can save some vertical space via the menu view -> toggle header or even view -> toggle toolbar."
   ]
  },
  {
   "cell_type": "markdown",
   "metadata": {},
   "source": [
    "## Cells\n",
    "Notebooks are divided into cells, which contain either text or python code. You see the boundary of the currently selected cell if you click on it (or use the up/down arrow keys).\n",
    "\n",
    "If you execute a text cell, it just gets displayed nicely. If you execute a code cell, the piece of code in that cell gets executed."
   ]
  },
  {
   "cell_type": "markdown",
   "metadata": {},
   "source": [
    "## Navigation\n",
    "If you know a few shortcuts, you can quickly move between cells, create new ones, execute cells in sequence, split cells, merge cells and so on.\n",
    "\n",
    "Find the keyboard shortcuts it Help -> Keyboard Shortcuts. First of all, find the keyboard shortcut that displays the keyboard shortcuts.\n",
    "\n",
    "Then, make sure you are fluent with the use of these shortcuts:\n",
    "  * arrow keys or `j`/`k` **to select the next/previous cell**\n",
    "  * `Enter` **to begin editing the selected cell**\n",
    "  * `Esc` **to get out of editing a cell**\n",
    "  * `ctrl-Enter` **to execute a cell, then keep it selected**\n",
    "  * `shift-Enter` **to execute a cell, then select the next one**\n",
    "  * `a` **to insert a new cell above**\n",
    "  * `b` **to insert a new cell below**"
   ]
  },
  {
   "cell_type": "markdown",
   "metadata": {},
   "source": [
    "### Text cells\n",
    "\n",
    "Text cells such as this one can be **formatted** in *diferent ways* and allow Latex formulas, like this: $\\sum \\frac{\\alpha}{b}$\n",
    "\n",
    " * Double click this cell or press `Enter` to switch it to edit mode. Now find out how the formatting syntax works (find out how to make headlines, bullet lists, latex formulas etc). If you want all the details about formatting, see Help -> Markdown.\n",
    " * Hit ctrl-Enter to display the nicely formatted cell again."
   ]
  },
  {
   "cell_type": "markdown",
   "metadata": {},
   "source": [
    "### Code cells\n",
    "Below is a code cell. Select it, then run it by pressing `ctrl-Enter`.\n",
    "\n",
    "Now convert the code cell to a text cell (via the Menu: Cell -> Cell Type -> Markdown).\n",
    "With the cell still selected, hit ctrl-Enter and you'll see that now, the code isn't executed, but instead it gets displayed as text. So convert the cell back to \"Code\".\n",
    "\n",
    "(It's good to know how to convert cells from one type to the other, in case you accidentally made a cell of the wrong kind.)"
   ]
  },
  {
   "cell_type": "code",
   "execution_count": 3,
   "metadata": {
    "collapsed": false
   },
   "outputs": [
    {
     "name": "stdout",
     "output_type": "stream",
     "text": [
      "0.200372703172\n"
     ]
    }
   ],
   "source": [
    "# execute this\n",
    "import numpy as np\n",
    "\n",
    "a = np.random.rand()\n",
    "print a"
   ]
  },
  {
   "cell_type": "markdown",
   "metadata": {},
   "source": [
    "## State\n",
    "\n",
    "State is preserved across cells. That means that variables that have been set during the execution of earlier cells will still be available in later cells. But, of course, when you execute a cell, only the code in that cell will run. We noticed last year that this combination can sometimes lead to mistakes when later cells depend on results from previous cells.\n",
    "\n",
    "Example: After executing the code cell above, execute the one below. You'll get the same value below as you got above. To get a different random number in the cell below, you need to execute the previous cell again beforehand.\n",
    "\n",
    "\n",
    "For longer notebooks, you'll enjoy the menu commands \"run all\", \"run all above\" and \"run all below\"."
   ]
  },
  {
   "cell_type": "code",
   "execution_count": 4,
   "metadata": {
    "collapsed": false
   },
   "outputs": [
    {
     "name": "stdout",
     "output_type": "stream",
     "text": [
      "value of a is 0.200372703172\n"
     ]
    }
   ],
   "source": [
    "# execute this. execute the one above. execute this again.\n",
    "print \"value of a is\",a"
   ]
  },
  {
   "cell_type": "markdown",
   "metadata": {},
   "source": [
    "## The Kernel\n",
    "\n",
    "The notebook actually sends your code to an instance of Python running in the background (called the kernel), where the code is executed. You only need to know three things about that:\n",
    "\n",
    "* If nothing happens when you try to execute a cell, look at the little circle in the top right corner. If it is filled (black), python is currently busy running your code, i.e. you need to wait.\n",
    "* If you are impatient, you can cancel execution via the menu Kernel -> Interrupt. (This is like hitting ctrl-c in the interactive python console.)\n",
    "* If things are broken or behaving weirdly, you can turn everything off and on again via the menu Kernel -> Restart. Among other things, this will delete all variables."
   ]
  },
  {
   "cell_type": "markdown",
   "metadata": {},
   "source": [
    "## Interactive documentation\n",
    "One of the nice features of ipython is that you can directly access documentation for all currently defined variables.\n",
    "For example, let's explore the contents of the numpy module (the array computation library everyone uses instead of Matlab) & let's see the documentation of one of the functions found in one of its submodules.\n",
    "\n",
    "Execute the cell below. Then, \n",
    "\n",
    "  * type `np.*TAB*` (where by `*TAB*` we mean pressing the tabulator key.). You get a list of all the submodules of numpy.\n",
    "  * type `np.random.rand?` (note the question mark). Execute the cell once more, and you get the doctstring of the rand function. (exit with `q`)\n",
    "  * type `np.random.rand(*shift-TAB*`. (note the parenthesis). You see a quick info about the arguments that this function accepts. Try hitting `shift-TAB` multiple times. After a few tabs, you get the complete doctstring.\n",
    "  \n",
    "This works for all objects. Try the same things with the example_dict object."
   ]
  },
  {
   "cell_type": "code",
   "execution_count": 5,
   "metadata": {
    "collapsed": false
   },
   "outputs": [],
   "source": [
    "import numpy as np\n",
    "\n",
    "# type below: np.*Tab*\n",
    "# etc..\n",
    "\n",
    "example_dict = {\"key1\":\"val1\", \"key2\":\"val2\",\"key3\":\"val3\"}\n",
    "\n",
    "# type below: example_dict.*Tab*\n",
    "# type below: example_dict?\n",
    "# etc.."
   ]
  },
  {
   "cell_type": "markdown",
   "metadata": {},
   "source": [
    "## Plotting\n",
    "In most cases, we want plots to appear directly in the notebook. The code cells below shows how to achieve that."
   ]
  },
  {
   "cell_type": "code",
   "execution_count": 6,
   "metadata": {
    "collapsed": false
   },
   "outputs": [],
   "source": [
    "from matplotlib.pyplot import *\n",
    "%matplotlib inline \n",
    "#  ^-- magic incantation to show plots \n",
    "# directly in the notebook from now on\n"
   ]
  },
  {
   "cell_type": "code",
   "execution_count": 7,
   "metadata": {
    "collapsed": false
   },
   "outputs": [
    {
     "data": {
      "text/plain": [
       "[<matplotlib.lines.Line2D at 0x104f311d0>]"
      ]
     },
     "execution_count": 7,
     "metadata": {},
     "output_type": "execute_result"
    },
    {
     "data": {
      "image/png": "[encoded data removed]",
      "text/plain": [
       "<matplotlib.figure.Figure at 0x104d2aa50>"
      ]
     },
     "metadata": {},
     "output_type": "display_data"
    }
   ],
   "source": [
    "plot([0,1,5,3,3,7,5,7,4,2,9])"
   ]
  },
  {
   "cell_type": "code",
   "execution_count": null,
   "metadata": {
    "collapsed": false
   },
   "outputs": [],
   "source": []
  }
 ],
 "metadata": {
  "kernelspec": {
   "display_name": "Python 2",
   "language": "python",
   "name": "python2"
  },
  "language_info": {
   "codemirror_mode": {
    "name": "ipython",
    "version": 2
   },
   "file_extension": ".py",
   "mimetype": "text/x-python",
   "name": "python",
   "nbconvert_exporter": "python",
   "pygments_lexer": "ipython2",
   "version": "2.7.9"
  }
 },
 "nbformat": 4,
 "nbformat_minor": 0
}
